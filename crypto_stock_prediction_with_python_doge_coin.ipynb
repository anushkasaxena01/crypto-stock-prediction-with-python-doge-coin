{
  "cells": [
    {
      "cell_type": "code",
      "execution_count": null,
      "id": "0f3837c9",
      "metadata": {
        "_kg_hide-output": true,
        "execution": {
          "iopub.execute_input": "2021-11-19T14:21:04.126431Z",
          "iopub.status.busy": "2021-11-19T14:21:04.125184Z",
          "iopub.status.idle": "2021-11-19T14:21:36.303331Z",
          "shell.execute_reply": "2021-11-19T14:21:36.302609Z",
          "shell.execute_reply.started": "2021-11-19T12:58:24.670994Z"
        },
        "papermill": {
          "duration": 32.205798,
          "end_time": "2021-11-19T14:21:36.303527",
          "exception": false,
          "start_time": "2021-11-19T14:21:04.097729",
          "status": "completed"
        },
        "tags": [],
        "colab": {
          "base_uri": "https://localhost:8080/"
        },
        "id": "0f3837c9",
        "outputId": "fb2f58ce-d058-43cc-d824-e6361ac1ed7b"
      },
      "outputs": [
        {
          "output_type": "stream",
          "name": "stdout",
          "text": [
            "Looking in indexes: https://pypi.org/simple, https://us-python.pkg.dev/colab-wheels/public/simple/\n",
            "Collecting yfinance\n",
            "  Downloading yfinance-0.1.84-py2.py3-none-any.whl (29 kB)\n",
            "Collecting requests>=2.26\n",
            "  Downloading requests-2.28.1-py3-none-any.whl (62 kB)\n",
            "\u001b[K     |████████████████████████████████| 62 kB 1.1 MB/s \n",
            "\u001b[?25hRequirement already satisfied: appdirs>=1.4.4 in /usr/local/lib/python3.7/dist-packages (from yfinance) (1.4.4)\n",
            "Requirement already satisfied: lxml>=4.5.1 in /usr/local/lib/python3.7/dist-packages (from yfinance) (4.9.1)\n",
            "Requirement already satisfied: pandas>=0.24.0 in /usr/local/lib/python3.7/dist-packages (from yfinance) (1.3.5)\n",
            "Requirement already satisfied: numpy>=1.15 in /usr/local/lib/python3.7/dist-packages (from yfinance) (1.21.6)\n",
            "Requirement already satisfied: multitasking>=0.0.7 in /usr/local/lib/python3.7/dist-packages (from yfinance) (0.0.11)\n",
            "Requirement already satisfied: python-dateutil>=2.7.3 in /usr/local/lib/python3.7/dist-packages (from pandas>=0.24.0->yfinance) (2.8.2)\n",
            "Requirement already satisfied: pytz>=2017.3 in /usr/local/lib/python3.7/dist-packages (from pandas>=0.24.0->yfinance) (2022.5)\n",
            "Requirement already satisfied: six>=1.5 in /usr/local/lib/python3.7/dist-packages (from python-dateutil>=2.7.3->pandas>=0.24.0->yfinance) (1.15.0)\n",
            "Requirement already satisfied: urllib3<1.27,>=1.21.1 in /usr/local/lib/python3.7/dist-packages (from requests>=2.26->yfinance) (1.24.3)\n",
            "Requirement already satisfied: idna<4,>=2.5 in /usr/local/lib/python3.7/dist-packages (from requests>=2.26->yfinance) (2.10)\n",
            "Requirement already satisfied: charset-normalizer<3,>=2 in /usr/local/lib/python3.7/dist-packages (from requests>=2.26->yfinance) (2.1.1)\n",
            "Requirement already satisfied: certifi>=2017.4.17 in /usr/local/lib/python3.7/dist-packages (from requests>=2.26->yfinance) (2022.9.24)\n",
            "Installing collected packages: requests, yfinance\n",
            "  Attempting uninstall: requests\n",
            "    Found existing installation: requests 2.23.0\n",
            "    Uninstalling requests-2.23.0:\n",
            "      Successfully uninstalled requests-2.23.0\n",
            "Successfully installed requests-2.28.1 yfinance-0.1.84\n",
            "Looking in indexes: https://pypi.org/simple, https://us-python.pkg.dev/colab-wheels/public/simple/\n",
            "Collecting finta\n",
            "  Downloading finta-1.3-py3-none-any.whl (29 kB)\n",
            "Requirement already satisfied: numpy in /usr/local/lib/python3.7/dist-packages (from finta) (1.21.6)\n",
            "Requirement already satisfied: pandas in /usr/local/lib/python3.7/dist-packages (from finta) (1.3.5)\n",
            "Requirement already satisfied: pytz>=2017.3 in /usr/local/lib/python3.7/dist-packages (from pandas->finta) (2022.5)\n",
            "Requirement already satisfied: python-dateutil>=2.7.3 in /usr/local/lib/python3.7/dist-packages (from pandas->finta) (2.8.2)\n",
            "Requirement already satisfied: six>=1.5 in /usr/local/lib/python3.7/dist-packages (from python-dateutil>=2.7.3->pandas->finta) (1.15.0)\n",
            "Installing collected packages: finta\n",
            "Successfully installed finta-1.3\n",
            "Looking in indexes: https://pypi.org/simple, https://us-python.pkg.dev/colab-wheels/public/simple/\n",
            "Collecting mplfinance\n",
            "  Downloading mplfinance-0.12.9b1-py3-none-any.whl (70 kB)\n",
            "\u001b[K     |████████████████████████████████| 70 kB 2.9 MB/s \n",
            "\u001b[?25hRequirement already satisfied: pandas in /usr/local/lib/python3.7/dist-packages (from mplfinance) (1.3.5)\n",
            "Requirement already satisfied: matplotlib in /usr/local/lib/python3.7/dist-packages (from mplfinance) (3.2.2)\n",
            "Requirement already satisfied: numpy>=1.11 in /usr/local/lib/python3.7/dist-packages (from matplotlib->mplfinance) (1.21.6)\n",
            "Requirement already satisfied: python-dateutil>=2.1 in /usr/local/lib/python3.7/dist-packages (from matplotlib->mplfinance) (2.8.2)\n",
            "Requirement already satisfied: pyparsing!=2.0.4,!=2.1.2,!=2.1.6,>=2.0.1 in /usr/local/lib/python3.7/dist-packages (from matplotlib->mplfinance) (3.0.9)\n",
            "Requirement already satisfied: kiwisolver>=1.0.1 in /usr/local/lib/python3.7/dist-packages (from matplotlib->mplfinance) (1.4.4)\n",
            "Requirement already satisfied: cycler>=0.10 in /usr/local/lib/python3.7/dist-packages (from matplotlib->mplfinance) (0.11.0)\n",
            "Requirement already satisfied: typing-extensions in /usr/local/lib/python3.7/dist-packages (from kiwisolver>=1.0.1->matplotlib->mplfinance) (4.1.1)\n",
            "Requirement already satisfied: six>=1.5 in /usr/local/lib/python3.7/dist-packages (from python-dateutil>=2.1->matplotlib->mplfinance) (1.15.0)\n",
            "Requirement already satisfied: pytz>=2017.3 in /usr/local/lib/python3.7/dist-packages (from pandas->mplfinance) (2022.5)\n",
            "Installing collected packages: mplfinance\n",
            "Successfully installed mplfinance-0.12.9b1\n"
          ]
        }
      ],
      "source": [
        "!pip install yfinance\n",
        "!pip install finta\n",
        "!pip install mplfinance\n",
        "import mplfinance as mpf\n",
        "import yfinance as yf\n",
        "import datetime\n",
        "import pandas as pd\n",
        "import numpy as np\n",
        "from finta import TA\n",
        "import matplotlib.pyplot as plt\n",
        "\n",
        "\n",
        "from sklearn import svm\n",
        "from sklearn.ensemble import RandomForestClassifier\n",
        "from sklearn.neighbors import KNeighborsClassifier\n",
        "from sklearn.ensemble import AdaBoostClassifier\n",
        "from sklearn.ensemble import GradientBoostingClassifier\n",
        "from sklearn.ensemble import VotingClassifier\n",
        "from sklearn.model_selection import train_test_split, GridSearchCV\n",
        "from sklearn.metrics import confusion_matrix, classification_report\n",
        "from sklearn import metrics\n"
      ]
    },
    {
      "cell_type": "markdown",
      "id": "b710e13c",
      "metadata": {
        "papermill": {
          "duration": 0.031668,
          "end_time": "2021-11-19T14:21:36.366571",
          "exception": false,
          "start_time": "2021-11-19T14:21:36.334903",
          "status": "completed"
        },
        "tags": [],
        "id": "b710e13c"
      },
      "source": [
        "### The list with the indicator symbols is useful to help use produce more features for our model."
      ]
    },
    {
      "cell_type": "code",
      "execution_count": null,
      "id": "46d18afe",
      "metadata": {
        "execution": {
          "iopub.execute_input": "2021-11-19T14:21:36.435871Z",
          "iopub.status.busy": "2021-11-19T14:21:36.435139Z",
          "iopub.status.idle": "2021-11-19T14:21:36.437450Z",
          "shell.execute_reply": "2021-11-19T14:21:36.437925Z",
          "shell.execute_reply.started": "2021-11-19T12:58:41.696810Z"
        },
        "papermill": {
          "duration": 0.040195,
          "end_time": "2021-11-19T14:21:36.438131",
          "exception": false,
          "start_time": "2021-11-19T14:21:36.397936",
          "status": "completed"
        },
        "tags": [],
        "id": "46d18afe"
      },
      "outputs": [],
      "source": [
        "\"\"\"\n",
        "Defining some constants for data mining\n",
        "\"\"\"\n",
        "\n",
        "NUM_DAYS = 10000     # The number of days of historical data to retrieve\n",
        "INTERVAL = '1d'     # Sample rate of historical data\n",
        "symbol = 'DOGE-USD'      # Symbol of the desired stock\n",
        "\n",
        "# List of symbols for technical indicators\n",
        "INDICATORS = ['RSI', 'MACD', 'STOCH','ADL', 'ATR', 'MOM', 'MFI', 'ROC', 'OBV', 'CCI', 'EMV', 'VORTEX']"
      ]
    },
    {
      "cell_type": "markdown",
      "id": "8a4c174b",
      "metadata": {
        "papermill": {
          "duration": 0.032075,
          "end_time": "2021-11-19T14:21:36.501415",
          "exception": false,
          "start_time": "2021-11-19T14:21:36.469340",
          "status": "completed"
        },
        "tags": [],
        "id": "8a4c174b"
      },
      "source": [
        "### Now we pull our historical data from yfinance. We don’t have many features to work with — not particularly useful unless we find a way to normalize them at least or derive more features from them."
      ]
    },
    {
      "cell_type": "code",
      "execution_count": null,
      "id": "d7c65ea9",
      "metadata": {
        "execution": {
          "iopub.execute_input": "2021-11-19T14:21:36.568617Z",
          "iopub.status.busy": "2021-11-19T14:21:36.567876Z",
          "iopub.status.idle": "2021-11-19T14:21:37.665731Z",
          "shell.execute_reply": "2021-11-19T14:21:37.666271Z",
          "shell.execute_reply.started": "2021-11-19T13:45:48.895495Z"
        },
        "papermill": {
          "duration": 1.133753,
          "end_time": "2021-11-19T14:21:37.666461",
          "exception": false,
          "start_time": "2021-11-19T14:21:36.532708",
          "status": "completed"
        },
        "tags": [],
        "colab": {
          "base_uri": "https://localhost:8080/",
          "height": 577
        },
        "id": "d7c65ea9",
        "outputId": "c00a7dd4-250a-4c5c-bc86-393942477c25"
      },
      "outputs": [
        {
          "output_type": "stream",
          "name": "stdout",
          "text": [
            "\r[*********************100%***********************]  1 of 1 completed\n"
          ]
        },
        {
          "output_type": "display_data",
          "data": {
            "text/plain": [
              "<Figure size 958.333x575 with 4 Axes>"
            ],
            "image/png": "[encoded data removed]"
          },
          "metadata": {}
        }
      ],
      "source": [
        "\n",
        "start = (datetime.date.today() - datetime.timedelta( NUM_DAYS ) )\n",
        "end = datetime.datetime.today()\n",
        "\n",
        "data = yf.download(symbol, start=start, end=end, interval=INTERVAL)\n",
        "\n",
        "mpf.plot(data.iloc[-60:],type=\"candle\",volume=True,tight_layout=False,style=\"yahoo\",\n",
        "        show_nontrading=True,scale_width_adjustment=dict(ohlc=1,lines=1,volume=2.4),\n",
        "        title=\"DOGE Price\",figratio=(20,12),ylabel='Price',\n",
        "        ylabel_lower='Value')"
      ]
    },
    {
      "cell_type": "code",
      "execution_count": null,
      "id": "5c843dc5",
      "metadata": {
        "execution": {
          "iopub.execute_input": "2021-11-19T14:21:37.741777Z",
          "iopub.status.busy": "2021-11-19T14:21:37.740758Z",
          "iopub.status.idle": "2021-11-19T14:21:37.743332Z",
          "shell.execute_reply": "2021-11-19T14:21:37.743791Z",
          "shell.execute_reply.started": "2021-11-19T13:46:01.902833Z"
        },
        "papermill": {
          "duration": 0.043736,
          "end_time": "2021-11-19T14:21:37.743988",
          "exception": false,
          "start_time": "2021-11-19T14:21:37.700252",
          "status": "completed"
        },
        "tags": [],
        "id": "5c843dc5"
      },
      "outputs": [],
      "source": [
        "data.rename(columns={\"Close\": 'close', \"High\": 'high', \"Low\": 'low', 'Volume': 'volume', 'Open': 'open'}, inplace=True)"
      ]
    },
    {
      "cell_type": "markdown",
      "id": "4e1bbae4",
      "metadata": {
        "papermill": {
          "duration": 0.032657,
          "end_time": "2021-11-19T14:21:37.810830",
          "exception": false,
          "start_time": "2021-11-19T14:21:37.778173",
          "status": "completed"
        },
        "tags": [],
        "id": "4e1bbae4"
      },
      "source": [
        "# <font color='red'> 2. Data Processing & Feature Engineering"
      ]
    },
    {
      "cell_type": "markdown",
      "id": "b228a525",
      "metadata": {
        "papermill": {
          "duration": 0.032582,
          "end_time": "2021-11-19T14:21:37.876625",
          "exception": false,
          "start_time": "2021-11-19T14:21:37.844043",
          "status": "completed"
        },
        "tags": [],
        "id": "b228a525"
      },
      "source": [
        "### We see that our data above is rough and contains lots of spikes for a time series. It isn’t very smooth and can be difficult for the model to extract trends from. To reduce the appearance of this we want to exponentially smooth our data before we compute the technical indicators."
      ]
    },
    {
      "cell_type": "code",
      "execution_count": null,
      "id": "507453cd",
      "metadata": {
        "execution": {
          "iopub.execute_input": "2021-11-19T14:21:37.947367Z",
          "iopub.status.busy": "2021-11-19T14:21:37.946301Z",
          "iopub.status.idle": "2021-11-19T14:21:38.445922Z",
          "shell.execute_reply": "2021-11-19T14:21:38.446880Z",
          "shell.execute_reply.started": "2021-11-19T12:58:42.887750Z"
        },
        "papermill": {
          "duration": 0.537087,
          "end_time": "2021-11-19T14:21:38.447088",
          "exception": false,
          "start_time": "2021-11-19T14:21:37.910001",
          "status": "completed"
        },
        "tags": [],
        "colab": {
          "base_uri": "https://localhost:8080/",
          "height": 515
        },
        "id": "507453cd",
        "outputId": "8b130909-6d35-445a-c68b-73e18f9216d5"
      },
      "outputs": [
        {
          "output_type": "execute_result",
          "data": {
            "text/plain": [
              "<matplotlib.axes._subplots.AxesSubplot at 0x7fa77342b110>"
            ]
          },
          "metadata": {},
          "execution_count": 5
        },
        {
          "output_type": "display_data",
          "data": {
            "text/plain": [
              "<Figure size 640x480 with 1 Axes>"
            ],
            "image/png": "[encoded data removed]"
          },
          "metadata": {}
        }
      ],
      "source": [
        "\"\"\"\n",
        "Next we clean our data and perform feature engineering to create new technical indicator features that our\n",
        "model can learn from\n",
        "\"\"\"\n",
        "\n",
        "def _exponential_smooth(data, alpha):\n",
        "    \"\"\"\n",
        "    Function that exponentially smooths dataset so values are less 'rigid'\n",
        "    :param alpha: weight factor to weight recent values more\n",
        "    \"\"\"\n",
        "\n",
        "    return data.ewm(alpha=alpha).mean()\n",
        "\n",
        "data = _exponential_smooth(data, 0.65)\n",
        "\n",
        "tmp1 = data.iloc[-60:]\n",
        "tmp1['close'].plot()"
      ]
    },
    {
      "cell_type": "markdown",
      "id": "d1c169cc",
      "metadata": {
        "papermill": {
          "duration": 0.034715,
          "end_time": "2021-11-19T14:21:38.517695",
          "exception": false,
          "start_time": "2021-11-19T14:21:38.482980",
          "status": "completed"
        },
        "tags": [],
        "id": "d1c169cc"
      },
      "source": [
        "### We can see that the data is much more smoothed. Having many peaks and troughs can make it hard to approximate, or be difficult to extract tends when computing the technical indicators. It can throw the model off."
      ]
    },
    {
      "cell_type": "markdown",
      "id": "9d8c8343",
      "metadata": {
        "papermill": {
          "duration": 0.034817,
          "end_time": "2021-11-19T14:21:38.587717",
          "exception": false,
          "start_time": "2021-11-19T14:21:38.552900",
          "status": "completed"
        },
        "tags": [],
        "id": "9d8c8343"
      },
      "source": [
        "### Now it’s time to compute our technical indicators. As stated above, I use the finta library in combination with python’s built in eval function to quickly compute all the indicators in the INDICATORS list. I also compute some ema’s at different average lengths in addition to a normalized volume value.\n",
        "\n",
        "### I remove the columns like ‘Open’, ‘High’, ‘Low’, and ‘Adj Close’ because we can get a good enough approximation with our ema’s in addition to the indicators. Volume has been proven to have a correlation with price fluctuations, which is why I normalized it."
      ]
    },
    {
      "cell_type": "code",
      "execution_count": null,
      "id": "d084597d",
      "metadata": {
        "execution": {
          "iopub.execute_input": "2021-11-19T14:21:38.661880Z",
          "iopub.status.busy": "2021-11-19T14:21:38.660707Z",
          "iopub.status.idle": "2021-11-19T14:21:38.910829Z",
          "shell.execute_reply": "2021-11-19T14:21:38.911351Z",
          "shell.execute_reply.started": "2021-11-19T12:58:43.373502Z"
        },
        "papermill": {
          "duration": 0.288665,
          "end_time": "2021-11-19T14:21:38.911532",
          "exception": false,
          "start_time": "2021-11-19T14:21:38.622867",
          "status": "completed"
        },
        "tags": [],
        "colab": {
          "base_uri": "https://localhost:8080/"
        },
        "id": "d084597d",
        "outputId": "3cbeef9e-f090-4368-baaa-c80f252a6eae"
      },
      "outputs": [
        {
          "output_type": "stream",
          "name": "stdout",
          "text": [
            "Index(['close', '14 period RSI', 'MACD', 'SIGNAL', '14 period STOCH %K', 'MFV',\n",
            "       '14 period ATR', 'MOM', '14 period MFI', 'ROC', 'OBV', '20 period CCI',\n",
            "       '14 period EMV', 'VIm', 'VIp', 'ema50', 'ema21', 'ema15', 'ema5',\n",
            "       'normVol'],\n",
            "      dtype='object')\n"
          ]
        }
      ],
      "source": [
        "def _get_indicator_data(data):\n",
        "    \"\"\"\n",
        "    Function that uses the finta API to calculate technical indicators used as the features\n",
        "    :return:\n",
        "    \"\"\"\n",
        "\n",
        "    for indicator in INDICATORS:\n",
        "        ind_data = eval('TA.' + indicator + '(data)')\n",
        "        if not isinstance(ind_data, pd.DataFrame):\n",
        "            ind_data = ind_data.to_frame()\n",
        "        data = data.merge(ind_data, left_index=True, right_index=True)\n",
        "    data.rename(columns={\"14 period EMV.\": '14 period EMV'}, inplace=True)\n",
        "\n",
        "    # Also calculate moving averages for features\n",
        "    data['ema50'] = data['close'] / data['close'].ewm(50).mean()\n",
        "    data['ema21'] = data['close'] / data['close'].ewm(21).mean()\n",
        "    data['ema15'] = data['close'] / data['close'].ewm(14).mean()\n",
        "    data['ema5'] = data['close'] / data['close'].ewm(5).mean()\n",
        "\n",
        "    # Instead of using the actual volume value (which changes over time), we normalize it with a moving volume average\n",
        "    data['normVol'] = data['volume'] / data['volume'].ewm(5).mean()\n",
        "\n",
        "    # Remove columns that won't be used as features\n",
        "    del (data['open'])\n",
        "    del (data['high'])\n",
        "    del (data['low'])\n",
        "    del (data['volume'])\n",
        "    del (data['Adj Close'])\n",
        "\n",
        "    return data\n",
        "\n",
        "data = _get_indicator_data(data)\n",
        "print(data.columns)"
      ]
    },
    {
      "cell_type": "markdown",
      "id": "a94c7e9d",
      "metadata": {
        "papermill": {
          "duration": 0.035091,
          "end_time": "2021-11-19T14:21:38.981665",
          "exception": false,
          "start_time": "2021-11-19T14:21:38.946574",
          "status": "completed"
        },
        "tags": [],
        "id": "a94c7e9d"
      },
      "source": [
        "### Right before we gather our predictions, I decided to keep a small bit of data to predict future values with."
      ]
    },
    {
      "cell_type": "code",
      "execution_count": null,
      "id": "12737e0d",
      "metadata": {
        "execution": {
          "iopub.execute_input": "2021-11-19T14:21:39.056918Z",
          "iopub.status.busy": "2021-11-19T14:21:39.055816Z",
          "iopub.status.idle": "2021-11-19T14:21:39.060575Z",
          "shell.execute_reply": "2021-11-19T14:21:39.061158Z",
          "shell.execute_reply.started": "2021-11-19T12:58:43.624614Z"
        },
        "papermill": {
          "duration": 0.044126,
          "end_time": "2021-11-19T14:21:39.061355",
          "exception": false,
          "start_time": "2021-11-19T14:21:39.017229",
          "status": "completed"
        },
        "tags": [],
        "id": "12737e0d"
      },
      "outputs": [],
      "source": [
        "live_pred_data = data.iloc[-16:-11]"
      ]
    },
    {
      "cell_type": "markdown",
      "id": "d01f7a18",
      "metadata": {
        "papermill": {
          "duration": 0.035941,
          "end_time": "2021-11-19T14:21:39.132643",
          "exception": false,
          "start_time": "2021-11-19T14:21:39.096702",
          "status": "completed"
        },
        "tags": [],
        "id": "d01f7a18"
      },
      "source": [
        "### Now comes one of the most important part of this project — computing the truth values. Without these, we wouldn’t even be able to train a machine learning model to make predictions."
      ]
    },
    {
      "cell_type": "code",
      "execution_count": null,
      "id": "ac21032a",
      "metadata": {
        "execution": {
          "iopub.execute_input": "2021-11-19T14:21:39.207937Z",
          "iopub.status.busy": "2021-11-19T14:21:39.206905Z",
          "iopub.status.idle": "2021-11-19T14:21:39.246896Z",
          "shell.execute_reply": "2021-11-19T14:21:39.247437Z",
          "shell.execute_reply.started": "2021-11-19T12:58:43.632679Z"
        },
        "papermill": {
          "duration": 0.079086,
          "end_time": "2021-11-19T14:21:39.247611",
          "exception": false,
          "start_time": "2021-11-19T14:21:39.168525",
          "status": "completed"
        },
        "tags": [],
        "colab": {
          "base_uri": "https://localhost:8080/",
          "height": 423
        },
        "id": "ac21032a",
        "outputId": "82d621b0-21e3-45c5-c229-2af809dde34a"
      },
      "outputs": [
        {
          "output_type": "execute_result",
          "data": {
            "text/plain": [
              "            14 period RSI      MACD    SIGNAL  14 period STOCH %K  \\\n",
              "Date                                                                \n",
              "2022-10-19      40.655374 -0.000733 -0.000569           22.401627   \n",
              "2022-10-20      42.683821 -0.000722 -0.000599           31.379578   \n",
              "2022-10-21      42.569789 -0.000708 -0.000621           37.621504   \n",
              "2022-10-22      44.176468 -0.000670 -0.000631           45.653344   \n",
              "2022-10-23      47.686978 -0.000593 -0.000623           55.781026   \n",
              "\n",
              "                     MFV  14 period ATR       MOM  14 period MFI       ROC  \\\n",
              "Date                                                                         \n",
              "2022-10-19  9.903185e+10       0.002190 -0.003080      36.130635 -6.101009   \n",
              "2022-10-20  9.901212e+10       0.002068 -0.001063      24.502654 -4.404444   \n",
              "2022-10-21  9.913577e+10       0.002023 -0.000973      25.577311 -4.492705   \n",
              "2022-10-22  9.923473e+10       0.001983 -0.000462      31.613945 -1.422158   \n",
              "2022-10-23  9.938718e+10       0.001988  0.000276      37.256551 -0.402783   \n",
              "\n",
              "                     OBV  20 period CCI  14 period EMV       VIm       VIp  \\\n",
              "Date                                                                         \n",
              "2022-10-19  5.518168e+10     -66.184902  -2.583059e-09  1.166905  0.895107   \n",
              "2022-10-20  5.543059e+10     -61.288831  -3.081036e-09  1.205123  0.853941   \n",
              "2022-10-21  5.519736e+10     -73.992456  -2.825145e-09  1.169535  0.852487   \n",
              "2022-10-22  5.538262e+10     -54.003384  -2.180253e-09  1.124458  0.895885   \n",
              "2022-10-23  5.556610e+10     -38.318667  -1.849651e-09  1.089312  0.908401   \n",
              "\n",
              "               ema50     ema21     ema15      ema5   normVol  pred  \n",
              "Date                                                                \n",
              "2022-10-19  0.879977  0.959485  0.971404  0.986864  1.028856   1.0  \n",
              "2022-10-20  0.886611  0.966088  0.978044  0.993369  0.978404   1.0  \n",
              "2022-10-21  0.888254  0.967227  0.979129  0.994153  0.929670   1.0  \n",
              "2022-10-22  0.893536  0.972198  0.983984  0.998283  0.772118   1.0  \n",
              "2022-10-23  0.902841  0.981289  0.992811  1.005595  0.795916   1.0  "
            ],
            "text/html": [
              "\n",
              "  <div id=\"df-3817adde-cf62-403d-9653-b9f94d9f43d0\">\n",
              "    <div class=\"colab-df-container\">\n",
              "      <div>\n",
              "<style scoped>\n",
              "    .dataframe tbody tr th:only-of-type {\n",
              "        vertical-align: middle;\n",
              "    }\n",
              "\n",
              "    .dataframe tbody tr th {\n",
              "        vertical-align: top;\n",
              "    }\n",
              "\n",
              "    .dataframe thead th {\n",
              "        text-align: right;\n",
              "    }\n",
              "</style>\n",
              "<table border=\"1\" class=\"dataframe\">\n",
              "  <thead>\n",
              "    <tr style=\"text-align: right;\">\n",
              "      <th></th>\n",
              "      <th>14 period RSI</th>\n",
              "      <th>MACD</th>\n",
              "      <th>SIGNAL</th>\n",
              "      <th>14 period STOCH %K</th>\n",
              "      <th>MFV</th>\n",
              "      <th>14 period ATR</th>\n",
              "      <th>MOM</th>\n",
              "      <th>14 period MFI</th>\n",
              "      <th>ROC</th>\n",
              "      <th>OBV</th>\n",
              "      <th>20 period CCI</th>\n",
              "      <th>14 period EMV</th>\n",
              "      <th>VIm</th>\n",
              "      <th>VIp</th>\n",
              "      <th>ema50</th>\n",
              "      <th>ema21</th>\n",
              "      <th>ema15</th>\n",
              "      <th>ema5</th>\n",
              "      <th>normVol</th>\n",
              "      <th>pred</th>\n",
              "    </tr>\n",
              "    <tr>\n",
              "      <th>Date</th>\n",
              "      <th></th>\n",
              "      <th></th>\n",
              "      <th></th>\n",
              "      <th></th>\n",
              "      <th></th>\n",
              "      <th></th>\n",
              "      <th></th>\n",
              "      <th></th>\n",
              "      <th></th>\n",
              "      <th></th>\n",
              "      <th></th>\n",
              "      <th></th>\n",
              "      <th></th>\n",
              "      <th></th>\n",
              "      <th></th>\n",
              "      <th></th>\n",
              "      <th></th>\n",
              "      <th></th>\n",
              "      <th></th>\n",
              "      <th></th>\n",
              "    </tr>\n",
              "  </thead>\n",
              "  <tbody>\n",
              "    <tr>\n",
              "      <th>2022-10-19</th>\n",
              "      <td>40.655374</td>\n",
              "      <td>-0.000733</td>\n",
              "      <td>-0.000569</td>\n",
              "      <td>22.401627</td>\n",
              "      <td>9.903185e+10</td>\n",
              "      <td>0.002190</td>\n",
              "      <td>-0.003080</td>\n",
              "      <td>36.130635</td>\n",
              "      <td>-6.101009</td>\n",
              "      <td>5.518168e+10</td>\n",
              "      <td>-66.184902</td>\n",
              "      <td>-2.583059e-09</td>\n",
              "      <td>1.166905</td>\n",
              "      <td>0.895107</td>\n",
              "      <td>0.879977</td>\n",
              "      <td>0.959485</td>\n",
              "      <td>0.971404</td>\n",
              "      <td>0.986864</td>\n",
              "      <td>1.028856</td>\n",
              "      <td>1.0</td>\n",
              "    </tr>\n",
              "    <tr>\n",
              "      <th>2022-10-20</th>\n",
              "      <td>42.683821</td>\n",
              "      <td>-0.000722</td>\n",
              "      <td>-0.000599</td>\n",
              "      <td>31.379578</td>\n",
              "      <td>9.901212e+10</td>\n",
              "      <td>0.002068</td>\n",
              "      <td>-0.001063</td>\n",
              "      <td>24.502654</td>\n",
              "      <td>-4.404444</td>\n",
              "      <td>5.543059e+10</td>\n",
              "      <td>-61.288831</td>\n",
              "      <td>-3.081036e-09</td>\n",
              "      <td>1.205123</td>\n",
              "      <td>0.853941</td>\n",
              "      <td>0.886611</td>\n",
              "      <td>0.966088</td>\n",
              "      <td>0.978044</td>\n",
              "      <td>0.993369</td>\n",
              "      <td>0.978404</td>\n",
              "      <td>1.0</td>\n",
              "    </tr>\n",
              "    <tr>\n",
              "      <th>2022-10-21</th>\n",
              "      <td>42.569789</td>\n",
              "      <td>-0.000708</td>\n",
              "      <td>-0.000621</td>\n",
              "      <td>37.621504</td>\n",
              "      <td>9.913577e+10</td>\n",
              "      <td>0.002023</td>\n",
              "      <td>-0.000973</td>\n",
              "      <td>25.577311</td>\n",
              "      <td>-4.492705</td>\n",
              "      <td>5.519736e+10</td>\n",
              "      <td>-73.992456</td>\n",
              "      <td>-2.825145e-09</td>\n",
              "      <td>1.169535</td>\n",
              "      <td>0.852487</td>\n",
              "      <td>0.888254</td>\n",
              "      <td>0.967227</td>\n",
              "      <td>0.979129</td>\n",
              "      <td>0.994153</td>\n",
              "      <td>0.929670</td>\n",
              "      <td>1.0</td>\n",
              "    </tr>\n",
              "    <tr>\n",
              "      <th>2022-10-22</th>\n",
              "      <td>44.176468</td>\n",
              "      <td>-0.000670</td>\n",
              "      <td>-0.000631</td>\n",
              "      <td>45.653344</td>\n",
              "      <td>9.923473e+10</td>\n",
              "      <td>0.001983</td>\n",
              "      <td>-0.000462</td>\n",
              "      <td>31.613945</td>\n",
              "      <td>-1.422158</td>\n",
              "      <td>5.538262e+10</td>\n",
              "      <td>-54.003384</td>\n",
              "      <td>-2.180253e-09</td>\n",
              "      <td>1.124458</td>\n",
              "      <td>0.895885</td>\n",
              "      <td>0.893536</td>\n",
              "      <td>0.972198</td>\n",
              "      <td>0.983984</td>\n",
              "      <td>0.998283</td>\n",
              "      <td>0.772118</td>\n",
              "      <td>1.0</td>\n",
              "    </tr>\n",
              "    <tr>\n",
              "      <th>2022-10-23</th>\n",
              "      <td>47.686978</td>\n",
              "      <td>-0.000593</td>\n",
              "      <td>-0.000623</td>\n",
              "      <td>55.781026</td>\n",
              "      <td>9.938718e+10</td>\n",
              "      <td>0.001988</td>\n",
              "      <td>0.000276</td>\n",
              "      <td>37.256551</td>\n",
              "      <td>-0.402783</td>\n",
              "      <td>5.556610e+10</td>\n",
              "      <td>-38.318667</td>\n",
              "      <td>-1.849651e-09</td>\n",
              "      <td>1.089312</td>\n",
              "      <td>0.908401</td>\n",
              "      <td>0.902841</td>\n",
              "      <td>0.981289</td>\n",
              "      <td>0.992811</td>\n",
              "      <td>1.005595</td>\n",
              "      <td>0.795916</td>\n",
              "      <td>1.0</td>\n",
              "    </tr>\n",
              "  </tbody>\n",
              "</table>\n",
              "</div>\n",
              "      <button class=\"colab-df-convert\" onclick=\"convertToInteractive('df-3817adde-cf62-403d-9653-b9f94d9f43d0')\"\n",
              "              title=\"Convert this dataframe to an interactive table.\"\n",
              "              style=\"display:none;\">\n",
              "        \n",
              "  <svg xmlns=\"http://www.w3.org/2000/svg\" height=\"24px\"viewBox=\"0 0 24 24\"\n",
              "       width=\"24px\">\n",
              "    <path d=\"M0 0h24v24H0V0z\" fill=\"none\"/>\n",
              "    <path d=\"M18.56 5.44l.94 2.06.94-2.06 2.06-.94-2.06-.94-.94-2.06-.94 2.06-2.06.94zm-11 1L8.5 8.5l.94-2.06 2.06-.94-2.06-.94L8.5 2.5l-.94 2.06-2.06.94zm10 10l.94 2.06.94-2.06 2.06-.94-2.06-.94-.94-2.06-.94 2.06-2.06.94z\"/><path d=\"M17.41 7.96l-1.37-1.37c-.4-.4-.92-.59-1.43-.59-.52 0-1.04.2-1.43.59L10.3 9.45l-7.72 7.72c-.78.78-.78 2.05 0 2.83L4 21.41c.39.39.9.59 1.41.59.51 0 1.02-.2 1.41-.59l7.78-7.78 2.81-2.81c.8-.78.8-2.07 0-2.86zM5.41 20L4 18.59l7.72-7.72 1.47 1.35L5.41 20z\"/>\n",
              "  </svg>\n",
              "      </button>\n",
              "      \n",
              "  <style>\n",
              "    .colab-df-container {\n",
              "      display:flex;\n",
              "      flex-wrap:wrap;\n",
              "      gap: 12px;\n",
              "    }\n",
              "\n",
              "    .colab-df-convert {\n",
              "      background-color: #E8F0FE;\n",
              "      border: none;\n",
              "      border-radius: 50%;\n",
              "      cursor: pointer;\n",
              "      display: none;\n",
              "      fill: #1967D2;\n",
              "      height: 32px;\n",
              "      padding: 0 0 0 0;\n",
              "      width: 32px;\n",
              "    }\n",
              "\n",
              "    .colab-df-convert:hover {\n",
              "      background-color: #E2EBFA;\n",
              "      box-shadow: 0px 1px 2px rgba(60, 64, 67, 0.3), 0px 1px 3px 1px rgba(60, 64, 67, 0.15);\n",
              "      fill: #174EA6;\n",
              "    }\n",
              "\n",
              "    [theme=dark] .colab-df-convert {\n",
              "      background-color: #3B4455;\n",
              "      fill: #D2E3FC;\n",
              "    }\n",
              "\n",
              "    [theme=dark] .colab-df-convert:hover {\n",
              "      background-color: #434B5C;\n",
              "      box-shadow: 0px 1px 3px 1px rgba(0, 0, 0, 0.15);\n",
              "      filter: drop-shadow(0px 1px 2px rgba(0, 0, 0, 0.3));\n",
              "      fill: #FFFFFF;\n",
              "    }\n",
              "  </style>\n",
              "\n",
              "      <script>\n",
              "        const buttonEl =\n",
              "          document.querySelector('#df-3817adde-cf62-403d-9653-b9f94d9f43d0 button.colab-df-convert');\n",
              "        buttonEl.style.display =\n",
              "          google.colab.kernel.accessAllowed ? 'block' : 'none';\n",
              "\n",
              "        async function convertToInteractive(key) {\n",
              "          const element = document.querySelector('#df-3817adde-cf62-403d-9653-b9f94d9f43d0');\n",
              "          const dataTable =\n",
              "            await google.colab.kernel.invokeFunction('convertToInteractive',\n",
              "                                                     [key], {});\n",
              "          if (!dataTable) return;\n",
              "\n",
              "          const docLinkHtml = 'Like what you see? Visit the ' +\n",
              "            '<a target=\"_blank\" href=https://colab.research.google.com/notebooks/data_table.ipynb>data table notebook</a>'\n",
              "            + ' to learn more about interactive tables.';\n",
              "          element.innerHTML = '';\n",
              "          dataTable['output_type'] = 'display_data';\n",
              "          await google.colab.output.renderOutput(dataTable, element);\n",
              "          const docLink = document.createElement('div');\n",
              "          docLink.innerHTML = docLinkHtml;\n",
              "          element.appendChild(docLink);\n",
              "        }\n",
              "      </script>\n",
              "    </div>\n",
              "  </div>\n",
              "  "
            ]
          },
          "metadata": {},
          "execution_count": 8
        }
      ],
      "source": [
        "def _produce_prediction(data, window):\n",
        "    \"\"\"\n",
        "    Function that produces the 'truth' values\n",
        "    At a given row, it looks 'window' rows ahead to see if the price increased (1) or decreased (0)\n",
        "    :param window: number of days, or rows to look ahead to see what the price did\n",
        "    \"\"\"\n",
        "\n",
        "    prediction = (data.shift(-window)['close'] >= data['close'])\n",
        "    prediction = prediction.iloc[:-window]\n",
        "    data['pred'] = prediction.astype(int)\n",
        "\n",
        "    return data\n",
        "\n",
        "data = _produce_prediction(data, window=5)\n",
        "del (data['close'])\n",
        "data = data.dropna()\n",
        "data.tail()"
      ]
    },
    {
      "cell_type": "markdown",
      "id": "d793cdd3",
      "metadata": {
        "papermill": {
          "duration": 0.036969,
          "end_time": "2021-11-19T14:21:39.322445",
          "exception": false,
          "start_time": "2021-11-19T14:21:39.285476",
          "status": "completed"
        },
        "tags": [],
        "id": "d793cdd3"
      },
      "source": [
        "# <font color='red'> 3. Model Creation"
      ]
    },
    {
      "cell_type": "markdown",
      "id": "c8e5deea",
      "metadata": {
        "papermill": {
          "duration": 0.036635,
          "end_time": "2021-11-19T14:21:39.395882",
          "exception": false,
          "start_time": "2021-11-19T14:21:39.359247",
          "status": "completed"
        },
        "tags": [],
        "id": "c8e5deea"
      },
      "source": [
        "### Right before we train our model we must split up the data into a train set and test set. However, due to the nature of time-series’, we need to handle this part carefully. If we randomize our train-test set, we could encounter a look-ahead bias which is not good for predicting the stock market. It’s caused when you train your model on data it would’ve already seen.\n",
        "### To prevent this we are going to be training the model using a different technique called cross-validation. The image below illustrates how we are going to partition our data and test the accuracy of the model."
      ]
    },
    {
      "cell_type": "markdown",
      "id": "3c7bef29",
      "metadata": {
        "papermill": {
          "duration": 0.035873,
          "end_time": "2021-11-19T14:21:39.468340",
          "exception": false,
          "start_time": "2021-11-19T14:21:39.432467",
          "status": "completed"
        },
        "tags": [],
        "id": "3c7bef29"
      },
      "source": [
        "### First, we’re going to use multiple classifiers to create an ensemble model. The goal here is to combine the predictions of several models to try and improve on predictability. For each sub-model, we’re also going to use a feature from Sklearn, GridSearchCV, to optimize each model for the best possible results.\n",
        "### First we create the random forest model."
      ]
    },
    {
      "cell_type": "code",
      "execution_count": null,
      "id": "c142712d",
      "metadata": {
        "execution": {
          "iopub.execute_input": "2021-11-19T14:21:39.548238Z",
          "iopub.status.busy": "2021-11-19T14:21:39.547351Z",
          "iopub.status.idle": "2021-11-19T14:21:39.553313Z",
          "shell.execute_reply": "2021-11-19T14:21:39.553811Z",
          "shell.execute_reply.started": "2021-11-19T12:58:43.679167Z"
        },
        "papermill": {
          "duration": 0.048593,
          "end_time": "2021-11-19T14:21:39.554014",
          "exception": false,
          "start_time": "2021-11-19T14:21:39.505421",
          "status": "completed"
        },
        "tags": [],
        "id": "c142712d"
      },
      "outputs": [],
      "source": [
        "X=data.drop(\"pred\",axis=1)\n",
        "y=data[\"pred\"]\n",
        "X_train, X_test, y_train, y_test = train_test_split(X, y, test_size=0.33, random_state=42)"
      ]
    },
    {
      "cell_type": "code",
      "execution_count": null,
      "id": "4e19c1f8",
      "metadata": {
        "execution": {
          "iopub.execute_input": "2021-11-19T14:21:39.630072Z",
          "iopub.status.busy": "2021-11-19T14:21:39.629049Z",
          "iopub.status.idle": "2021-11-19T14:22:13.125543Z",
          "shell.execute_reply": "2021-11-19T14:22:13.126357Z",
          "shell.execute_reply.started": "2021-11-19T12:58:43.694162Z"
        },
        "papermill": {
          "duration": 33.536657,
          "end_time": "2021-11-19T14:22:13.126594",
          "exception": false,
          "start_time": "2021-11-19T14:21:39.589937",
          "status": "completed"
        },
        "tags": [],
        "colab": {
          "base_uri": "https://localhost:8080/"
        },
        "id": "4e19c1f8",
        "outputId": "e133aeca-15be-4c0e-be8c-78aa1ca0a232"
      },
      "outputs": [
        {
          "output_type": "stream",
          "name": "stdout",
          "text": [
            "{'n_estimators': 200}\n",
            "              precision    recall  f1-score   support\n",
            "\n",
            "         0.0       0.79      0.86      0.82       344\n",
            "         1.0       0.78      0.69      0.73       249\n",
            "\n",
            "    accuracy                           0.79       593\n",
            "   macro avg       0.78      0.77      0.78       593\n",
            "weighted avg       0.79      0.79      0.78       593\n",
            "\n",
            "[[295  49]\n",
            " [ 78 171]]\n"
          ]
        }
      ],
      "source": [
        "def _train_random_forest(X_train, y_train, X_test, y_test):\n",
        "\n",
        "    \"\"\"\n",
        "    Function that uses random forest classifier to train the model\n",
        "    :return:\n",
        "    \"\"\"\n",
        "\n",
        "    # Create a new random forest classifier\n",
        "    rf = RandomForestClassifier()\n",
        "\n",
        "    # Dictionary of all values we want to test for n_estimators\n",
        "    params_rf = {'n_estimators': [110,130,140,150,160,180,200]}\n",
        "\n",
        "    # Use gridsearch to test all values for n_estimators\n",
        "    rf_gs = GridSearchCV(rf, params_rf, cv=5)\n",
        "\n",
        "    # Fit model to training data\n",
        "    rf_gs.fit(X_train, y_train)\n",
        "\n",
        "    # Save best model\n",
        "    rf_best = rf_gs.best_estimator_\n",
        "\n",
        "    # Check best n_estimators value\n",
        "    print(rf_gs.best_params_)\n",
        "\n",
        "    prediction = rf_best.predict(X_test)\n",
        "\n",
        "    print(classification_report(y_test, prediction))\n",
        "    print(confusion_matrix(y_test, prediction))\n",
        "\n",
        "    return rf_best\n",
        "\n",
        "rf_model = _train_random_forest(X_train, y_train, X_test, y_test)"
      ]
    },
    {
      "cell_type": "markdown",
      "id": "2263edd7",
      "metadata": {
        "papermill": {
          "duration": 0.037528,
          "end_time": "2021-11-19T14:22:13.201866",
          "exception": false,
          "start_time": "2021-11-19T14:22:13.164338",
          "status": "completed"
        },
        "tags": [],
        "id": "2263edd7"
      },
      "source": [
        "### Then the KNN model."
      ]
    },
    {
      "cell_type": "code",
      "execution_count": null,
      "id": "dff7045f",
      "metadata": {
        "execution": {
          "iopub.execute_input": "2021-11-19T14:22:13.278694Z",
          "iopub.status.busy": "2021-11-19T14:22:13.278008Z",
          "iopub.status.idle": "2021-11-19T14:22:16.107473Z",
          "shell.execute_reply": "2021-11-19T14:22:16.108091Z",
          "shell.execute_reply.started": "2021-11-19T12:59:15.801604Z"
        },
        "papermill": {
          "duration": 2.869597,
          "end_time": "2021-11-19T14:22:16.108267",
          "exception": false,
          "start_time": "2021-11-19T14:22:13.238670",
          "status": "completed"
        },
        "tags": [],
        "colab": {
          "base_uri": "https://localhost:8080/"
        },
        "id": "dff7045f",
        "outputId": "60418d3a-b876-4aa8-89bf-761ee6405d18"
      },
      "outputs": [
        {
          "output_type": "stream",
          "name": "stdout",
          "text": [
            "{'n_neighbors': 4}\n",
            "              precision    recall  f1-score   support\n",
            "\n",
            "         0.0       0.66      0.83      0.74       344\n",
            "         1.0       0.65      0.42      0.51       249\n",
            "\n",
            "    accuracy                           0.66       593\n",
            "   macro avg       0.66      0.63      0.62       593\n",
            "weighted avg       0.66      0.66      0.64       593\n",
            "\n",
            "[[287  57]\n",
            " [145 104]]\n"
          ]
        }
      ],
      "source": [
        "def _train_KNN(X_train, y_train, X_test, y_test):\n",
        "\n",
        "    knn = KNeighborsClassifier()\n",
        "    # Create a dictionary of all values we want to test for n_neighbors\n",
        "    params_knn = {'n_neighbors': np.arange(1, 25)}\n",
        "\n",
        "    # Use gridsearch to test all values for n_neighbors\n",
        "    knn_gs = GridSearchCV(knn, params_knn, cv=5)\n",
        "\n",
        "    # Fit model to training data\n",
        "    knn_gs.fit(X_train, y_train)\n",
        "\n",
        "    # Save best model\n",
        "    knn_best = knn_gs.best_estimator_\n",
        "\n",
        "    # Check best n_neigbors value\n",
        "    print(knn_gs.best_params_)\n",
        "\n",
        "    prediction = knn_best.predict(X_test)\n",
        "\n",
        "    print(classification_report(y_test, prediction))\n",
        "    print(confusion_matrix(y_test, prediction))\n",
        "\n",
        "    return knn_best\n",
        "\n",
        "\n",
        "knn_model = _train_KNN(X_train, y_train, X_test, y_test)"
      ]
    },
    {
      "cell_type": "markdown",
      "id": "c1917c03",
      "metadata": {
        "papermill": {
          "duration": 0.036392,
          "end_time": "2021-11-19T14:22:16.181689",
          "exception": false,
          "start_time": "2021-11-19T14:22:16.145297",
          "status": "completed"
        },
        "tags": [],
        "id": "c1917c03"
      },
      "source": [
        "### And now finally we create the voting classifier"
      ]
    },
    {
      "cell_type": "code",
      "execution_count": null,
      "id": "9e4da7f7",
      "metadata": {
        "execution": {
          "iopub.execute_input": "2021-11-19T14:22:16.265192Z",
          "iopub.status.busy": "2021-11-19T14:22:16.264466Z",
          "iopub.status.idle": "2021-11-19T14:22:30.359320Z",
          "shell.execute_reply": "2021-11-19T14:22:30.360577Z",
          "shell.execute_reply.started": "2021-11-19T12:59:18.594822Z"
        },
        "papermill": {
          "duration": 14.142307,
          "end_time": "2021-11-19T14:22:30.360858",
          "exception": false,
          "start_time": "2021-11-19T14:22:16.218551",
          "status": "completed"
        },
        "tags": [],
        "colab": {
          "base_uri": "https://localhost:8080/"
        },
        "id": "9e4da7f7",
        "outputId": "e279a424-d7f7-4feb-c890-1566c4a2af05"
      },
      "outputs": [
        {
          "output_type": "stream",
          "name": "stdout",
          "text": [
            "{'n_estimators': 24}\n",
            "              precision    recall  f1-score   support\n",
            "\n",
            "         0.0       0.65      0.84      0.73       344\n",
            "         1.0       0.62      0.37      0.46       249\n",
            "\n",
            "    accuracy                           0.64       593\n",
            "   macro avg       0.63      0.60      0.60       593\n",
            "weighted avg       0.64      0.64      0.62       593\n",
            "\n",
            "[[288  56]\n",
            " [157  92]]\n"
          ]
        }
      ],
      "source": [
        "def _train_GBT(X_train, y_train, X_test, y_test):\n",
        "\n",
        "    gbt = GradientBoostingClassifier()\n",
        "    # Create a dictionary of all values we want to test for n_neighbors\n",
        "    params_gbt = {'n_estimators': np.arange(1, 25)}\n",
        "\n",
        "    # Use gridsearch to test all values for n_neighbors\n",
        "    gbt_gs = GridSearchCV(gbt, params_gbt, cv=5)\n",
        "\n",
        "    # Fit model to training data\n",
        "    gbt_gs.fit(X_train, y_train)\n",
        "\n",
        "    # Save best model\n",
        "    gbt_best = gbt_gs.best_estimator_\n",
        "\n",
        "    # Check best n_neigbors value\n",
        "    print(gbt_gs.best_params_)\n",
        "\n",
        "    prediction = gbt_best.predict(X_test)\n",
        "\n",
        "    print(classification_report(y_test, prediction))\n",
        "    print(confusion_matrix(y_test, prediction))\n",
        "\n",
        "    return gbt_best\n",
        "\n",
        "\n",
        "gbt_model = _train_GBT(X_train, y_train, X_test, y_test)"
      ]
    },
    {
      "cell_type": "code",
      "execution_count": null,
      "id": "7b2aef4b",
      "metadata": {
        "execution": {
          "iopub.execute_input": "2021-11-19T14:22:30.464746Z",
          "iopub.status.busy": "2021-11-19T14:22:30.463710Z",
          "iopub.status.idle": "2021-11-19T14:22:32.074003Z",
          "shell.execute_reply": "2021-11-19T14:22:32.072999Z",
          "shell.execute_reply.started": "2021-11-19T12:59:32.504859Z"
        },
        "papermill": {
          "duration": 1.661596,
          "end_time": "2021-11-19T14:22:32.074221",
          "exception": false,
          "start_time": "2021-11-19T14:22:30.412625",
          "status": "completed"
        },
        "tags": [],
        "colab": {
          "base_uri": "https://localhost:8080/"
        },
        "id": "7b2aef4b",
        "outputId": "1f040a1f-9276-4a78-e926-3fd11af6d41e"
      },
      "outputs": [
        {
          "output_type": "stream",
          "name": "stdout",
          "text": [
            "0.7234401349072512\n",
            "              precision    recall  f1-score   support\n",
            "\n",
            "         0.0       0.71      0.88      0.79       344\n",
            "         1.0       0.76      0.50      0.60       249\n",
            "\n",
            "    accuracy                           0.72       593\n",
            "   macro avg       0.73      0.69      0.70       593\n",
            "weighted avg       0.73      0.72      0.71       593\n",
            "\n",
            "[[304  40]\n",
            " [124 125]]\n"
          ]
        }
      ],
      "source": [
        "def _ensemble_model(rf_model, knn_model, gbt_model, X_train, y_train, X_test, y_test):\n",
        "\n",
        "    # Create a dictionary of our models\n",
        "    estimators=[('knn', knn_model), ('rf', rf_model), ('gbt', gbt_model)]\n",
        "\n",
        "    # Create our voting classifier, inputting our models\n",
        "    ensemble = VotingClassifier(estimators, voting='hard')\n",
        "\n",
        "    #fit model to training data\n",
        "    ensemble.fit(X_train, y_train)\n",
        "\n",
        "    #test our model on the test data\n",
        "    print(ensemble.score(X_test, y_test))\n",
        "\n",
        "    prediction = ensemble.predict(X_test)\n",
        "\n",
        "    print(classification_report(y_test, prediction))\n",
        "    print(confusion_matrix(y_test, prediction))\n",
        "\n",
        "    return ensemble\n",
        "\n",
        "ensemble_model = _ensemble_model(rf_model, knn_model, gbt_model, X_train, y_train, X_test, y_test)"
      ]
    },
    {
      "cell_type": "markdown",
      "id": "73052ce5",
      "metadata": {
        "papermill": {
          "duration": 0.038167,
          "end_time": "2021-11-19T14:22:32.220102",
          "exception": false,
          "start_time": "2021-11-19T14:22:32.181935",
          "status": "completed"
        },
        "tags": [],
        "id": "73052ce5"
      },
      "source": [
        "# <font color='red'> 4. Prediction"
      ]
    },
    {
      "cell_type": "markdown",
      "id": "60dfb0f1",
      "metadata": {
        "papermill": {
          "duration": 0.039999,
          "end_time": "2021-11-19T14:22:32.301211",
          "exception": false,
          "start_time": "2021-11-19T14:22:32.261212",
          "status": "completed"
        },
        "tags": [],
        "id": "60dfb0f1"
      },
      "source": [
        "### For the next step we’re going to predict how the DOGE coin will behave with our predictive model."
      ]
    },
    {
      "cell_type": "code",
      "execution_count": null,
      "id": "50ef8425",
      "metadata": {
        "execution": {
          "iopub.execute_input": "2021-11-19T14:22:32.399522Z",
          "iopub.status.busy": "2021-11-19T14:22:32.398731Z",
          "iopub.status.idle": "2021-11-19T14:22:32.415292Z",
          "shell.execute_reply": "2021-11-19T14:22:32.415805Z",
          "shell.execute_reply.started": "2021-11-19T13:01:21.359635Z"
        },
        "papermill": {
          "duration": 0.072184,
          "end_time": "2021-11-19T14:22:32.416014",
          "exception": false,
          "start_time": "2021-11-19T14:22:32.343830",
          "status": "completed"
        },
        "tags": [],
        "colab": {
          "base_uri": "https://localhost:8080/"
        },
        "id": "50ef8425",
        "outputId": "440a3af0-bf9a-460c-ab66-61a036f26937"
      },
      "outputs": [
        {
          "output_type": "execute_result",
          "data": {
            "text/plain": [
              "               close  14 period RSI      MACD    SIGNAL  14 period STOCH %K  \\\n",
              "Date                                                                          \n",
              "2022-10-13  0.059800      41.666543 -0.000369 -0.000219           30.345644   \n",
              "2022-10-14  0.059048      38.877496 -0.000509 -0.000277           22.292175   \n",
              "2022-10-15  0.058744      37.776131 -0.000637 -0.000349           19.034982   \n",
              "2022-10-16  0.058854      38.458995 -0.000721 -0.000424           20.219647   \n",
              "2022-10-17  0.059557      42.754198 -0.000723 -0.000483           27.740615   \n",
              "\n",
              "                     MFV  14 period ATR       MOM  14 period MFI       ROC  \\\n",
              "Date                                                                         \n",
              "2022-10-13  9.922454e+10       0.002553 -0.000394      50.869818 -1.760506   \n",
              "2022-10-14  9.917271e+10       0.002618 -0.004895      50.389465 -1.327369   \n",
              "2022-10-15  9.911144e+10       0.002595 -0.005714      44.364741 -2.409885   \n",
              "2022-10-16  9.906663e+10       0.002542 -0.004944      48.933484 -7.958479   \n",
              "2022-10-17  9.915361e+10       0.002526 -0.003339      53.189775 -7.603601   \n",
              "\n",
              "                     OBV  20 period CCI  14 period EMV       VIm       VIp  \\\n",
              "Date                                                                         \n",
              "2022-10-13  5.537910e+10    -136.751390  -1.544176e-09  1.022382  0.933311   \n",
              "2022-10-14  5.508767e+10    -119.887047  -1.314428e-09  1.027098  0.948095   \n",
              "2022-10-15  5.486724e+10    -124.035027  -1.761690e-09  1.067529  0.941337   \n",
              "2022-10-16  5.504985e+10    -108.913373  -1.296248e-09  1.051383  0.969095   \n",
              "2022-10-17  5.522703e+10     -80.463757  -9.369286e-10  1.025635  0.980788   \n",
              "\n",
              "               ema50     ema21     ema15      ema5   normVol  \n",
              "Date                                                          \n",
              "2022-10-13  0.877915  0.959601  0.970378  0.978669  1.205294  \n",
              "2022-10-14  0.869142  0.949797  0.960852  0.971809  0.932159  \n",
              "2022-10-15  0.866966  0.947277  0.958721  0.972181  0.741535  \n",
              "2022-10-16  0.870842  0.951263  0.963061  0.978249  0.656505  \n",
              "2022-10-17  0.883292  0.964254  0.976210  0.991589  0.678012  "
            ],
            "text/html": [
              "\n",
              "  <div id=\"df-827340d3-36a7-4b01-8549-676998d8abee\">\n",
              "    <div class=\"colab-df-container\">\n",
              "      <div>\n",
              "<style scoped>\n",
              "    .dataframe tbody tr th:only-of-type {\n",
              "        vertical-align: middle;\n",
              "    }\n",
              "\n",
              "    .dataframe tbody tr th {\n",
              "        vertical-align: top;\n",
              "    }\n",
              "\n",
              "    .dataframe thead th {\n",
              "        text-align: right;\n",
              "    }\n",
              "</style>\n",
              "<table border=\"1\" class=\"dataframe\">\n",
              "  <thead>\n",
              "    <tr style=\"text-align: right;\">\n",
              "      <th></th>\n",
              "      <th>close</th>\n",
              "      <th>14 period RSI</th>\n",
              "      <th>MACD</th>\n",
              "      <th>SIGNAL</th>\n",
              "      <th>14 period STOCH %K</th>\n",
              "      <th>MFV</th>\n",
              "      <th>14 period ATR</th>\n",
              "      <th>MOM</th>\n",
              "      <th>14 period MFI</th>\n",
              "      <th>ROC</th>\n",
              "      <th>OBV</th>\n",
              "      <th>20 period CCI</th>\n",
              "      <th>14 period EMV</th>\n",
              "      <th>VIm</th>\n",
              "      <th>VIp</th>\n",
              "      <th>ema50</th>\n",
              "      <th>ema21</th>\n",
              "      <th>ema15</th>\n",
              "      <th>ema5</th>\n",
              "      <th>normVol</th>\n",
              "    </tr>\n",
              "    <tr>\n",
              "      <th>Date</th>\n",
              "      <th></th>\n",
              "      <th></th>\n",
              "      <th></th>\n",
              "      <th></th>\n",
              "      <th></th>\n",
              "      <th></th>\n",
              "      <th></th>\n",
              "      <th></th>\n",
              "      <th></th>\n",
              "      <th></th>\n",
              "      <th></th>\n",
              "      <th></th>\n",
              "      <th></th>\n",
              "      <th></th>\n",
              "      <th></th>\n",
              "      <th></th>\n",
              "      <th></th>\n",
              "      <th></th>\n",
              "      <th></th>\n",
              "      <th></th>\n",
              "    </tr>\n",
              "  </thead>\n",
              "  <tbody>\n",
              "    <tr>\n",
              "      <th>2022-10-13</th>\n",
              "      <td>0.059800</td>\n",
              "      <td>41.666543</td>\n",
              "      <td>-0.000369</td>\n",
              "      <td>-0.000219</td>\n",
              "      <td>30.345644</td>\n",
              "      <td>9.922454e+10</td>\n",
              "      <td>0.002553</td>\n",
              "      <td>-0.000394</td>\n",
              "      <td>50.869818</td>\n",
              "      <td>-1.760506</td>\n",
              "      <td>5.537910e+10</td>\n",
              "      <td>-136.751390</td>\n",
              "      <td>-1.544176e-09</td>\n",
              "      <td>1.022382</td>\n",
              "      <td>0.933311</td>\n",
              "      <td>0.877915</td>\n",
              "      <td>0.959601</td>\n",
              "      <td>0.970378</td>\n",
              "      <td>0.978669</td>\n",
              "      <td>1.205294</td>\n",
              "    </tr>\n",
              "    <tr>\n",
              "      <th>2022-10-14</th>\n",
              "      <td>0.059048</td>\n",
              "      <td>38.877496</td>\n",
              "      <td>-0.000509</td>\n",
              "      <td>-0.000277</td>\n",
              "      <td>22.292175</td>\n",
              "      <td>9.917271e+10</td>\n",
              "      <td>0.002618</td>\n",
              "      <td>-0.004895</td>\n",
              "      <td>50.389465</td>\n",
              "      <td>-1.327369</td>\n",
              "      <td>5.508767e+10</td>\n",
              "      <td>-119.887047</td>\n",
              "      <td>-1.314428e-09</td>\n",
              "      <td>1.027098</td>\n",
              "      <td>0.948095</td>\n",
              "      <td>0.869142</td>\n",
              "      <td>0.949797</td>\n",
              "      <td>0.960852</td>\n",
              "      <td>0.971809</td>\n",
              "      <td>0.932159</td>\n",
              "    </tr>\n",
              "    <tr>\n",
              "      <th>2022-10-15</th>\n",
              "      <td>0.058744</td>\n",
              "      <td>37.776131</td>\n",
              "      <td>-0.000637</td>\n",
              "      <td>-0.000349</td>\n",
              "      <td>19.034982</td>\n",
              "      <td>9.911144e+10</td>\n",
              "      <td>0.002595</td>\n",
              "      <td>-0.005714</td>\n",
              "      <td>44.364741</td>\n",
              "      <td>-2.409885</td>\n",
              "      <td>5.486724e+10</td>\n",
              "      <td>-124.035027</td>\n",
              "      <td>-1.761690e-09</td>\n",
              "      <td>1.067529</td>\n",
              "      <td>0.941337</td>\n",
              "      <td>0.866966</td>\n",
              "      <td>0.947277</td>\n",
              "      <td>0.958721</td>\n",
              "      <td>0.972181</td>\n",
              "      <td>0.741535</td>\n",
              "    </tr>\n",
              "    <tr>\n",
              "      <th>2022-10-16</th>\n",
              "      <td>0.058854</td>\n",
              "      <td>38.458995</td>\n",
              "      <td>-0.000721</td>\n",
              "      <td>-0.000424</td>\n",
              "      <td>20.219647</td>\n",
              "      <td>9.906663e+10</td>\n",
              "      <td>0.002542</td>\n",
              "      <td>-0.004944</td>\n",
              "      <td>48.933484</td>\n",
              "      <td>-7.958479</td>\n",
              "      <td>5.504985e+10</td>\n",
              "      <td>-108.913373</td>\n",
              "      <td>-1.296248e-09</td>\n",
              "      <td>1.051383</td>\n",
              "      <td>0.969095</td>\n",
              "      <td>0.870842</td>\n",
              "      <td>0.951263</td>\n",
              "      <td>0.963061</td>\n",
              "      <td>0.978249</td>\n",
              "      <td>0.656505</td>\n",
              "    </tr>\n",
              "    <tr>\n",
              "      <th>2022-10-17</th>\n",
              "      <td>0.059557</td>\n",
              "      <td>42.754198</td>\n",
              "      <td>-0.000723</td>\n",
              "      <td>-0.000483</td>\n",
              "      <td>27.740615</td>\n",
              "      <td>9.915361e+10</td>\n",
              "      <td>0.002526</td>\n",
              "      <td>-0.003339</td>\n",
              "      <td>53.189775</td>\n",
              "      <td>-7.603601</td>\n",
              "      <td>5.522703e+10</td>\n",
              "      <td>-80.463757</td>\n",
              "      <td>-9.369286e-10</td>\n",
              "      <td>1.025635</td>\n",
              "      <td>0.980788</td>\n",
              "      <td>0.883292</td>\n",
              "      <td>0.964254</td>\n",
              "      <td>0.976210</td>\n",
              "      <td>0.991589</td>\n",
              "      <td>0.678012</td>\n",
              "    </tr>\n",
              "  </tbody>\n",
              "</table>\n",
              "</div>\n",
              "      <button class=\"colab-df-convert\" onclick=\"convertToInteractive('df-827340d3-36a7-4b01-8549-676998d8abee')\"\n",
              "              title=\"Convert this dataframe to an interactive table.\"\n",
              "              style=\"display:none;\">\n",
              "        \n",
              "  <svg xmlns=\"http://www.w3.org/2000/svg\" height=\"24px\"viewBox=\"0 0 24 24\"\n",
              "       width=\"24px\">\n",
              "    <path d=\"M0 0h24v24H0V0z\" fill=\"none\"/>\n",
              "    <path d=\"M18.56 5.44l.94 2.06.94-2.06 2.06-.94-2.06-.94-.94-2.06-.94 2.06-2.06.94zm-11 1L8.5 8.5l.94-2.06 2.06-.94-2.06-.94L8.5 2.5l-.94 2.06-2.06.94zm10 10l.94 2.06.94-2.06 2.06-.94-2.06-.94-.94-2.06-.94 2.06-2.06.94z\"/><path d=\"M17.41 7.96l-1.37-1.37c-.4-.4-.92-.59-1.43-.59-.52 0-1.04.2-1.43.59L10.3 9.45l-7.72 7.72c-.78.78-.78 2.05 0 2.83L4 21.41c.39.39.9.59 1.41.59.51 0 1.02-.2 1.41-.59l7.78-7.78 2.81-2.81c.8-.78.8-2.07 0-2.86zM5.41 20L4 18.59l7.72-7.72 1.47 1.35L5.41 20z\"/>\n",
              "  </svg>\n",
              "      </button>\n",
              "      \n",
              "  <style>\n",
              "    .colab-df-container {\n",
              "      display:flex;\n",
              "      flex-wrap:wrap;\n",
              "      gap: 12px;\n",
              "    }\n",
              "\n",
              "    .colab-df-convert {\n",
              "      background-color: #E8F0FE;\n",
              "      border: none;\n",
              "      border-radius: 50%;\n",
              "      cursor: pointer;\n",
              "      display: none;\n",
              "      fill: #1967D2;\n",
              "      height: 32px;\n",
              "      padding: 0 0 0 0;\n",
              "      width: 32px;\n",
              "    }\n",
              "\n",
              "    .colab-df-convert:hover {\n",
              "      background-color: #E2EBFA;\n",
              "      box-shadow: 0px 1px 2px rgba(60, 64, 67, 0.3), 0px 1px 3px 1px rgba(60, 64, 67, 0.15);\n",
              "      fill: #174EA6;\n",
              "    }\n",
              "\n",
              "    [theme=dark] .colab-df-convert {\n",
              "      background-color: #3B4455;\n",
              "      fill: #D2E3FC;\n",
              "    }\n",
              "\n",
              "    [theme=dark] .colab-df-convert:hover {\n",
              "      background-color: #434B5C;\n",
              "      box-shadow: 0px 1px 3px 1px rgba(0, 0, 0, 0.15);\n",
              "      filter: drop-shadow(0px 1px 2px rgba(0, 0, 0, 0.3));\n",
              "      fill: #FFFFFF;\n",
              "    }\n",
              "  </style>\n",
              "\n",
              "      <script>\n",
              "        const buttonEl =\n",
              "          document.querySelector('#df-827340d3-36a7-4b01-8549-676998d8abee button.colab-df-convert');\n",
              "        buttonEl.style.display =\n",
              "          google.colab.kernel.accessAllowed ? 'block' : 'none';\n",
              "\n",
              "        async function convertToInteractive(key) {\n",
              "          const element = document.querySelector('#df-827340d3-36a7-4b01-8549-676998d8abee');\n",
              "          const dataTable =\n",
              "            await google.colab.kernel.invokeFunction('convertToInteractive',\n",
              "                                                     [key], {});\n",
              "          if (!dataTable) return;\n",
              "\n",
              "          const docLinkHtml = 'Like what you see? Visit the ' +\n",
              "            '<a target=\"_blank\" href=https://colab.research.google.com/notebooks/data_table.ipynb>data table notebook</a>'\n",
              "            + ' to learn more about interactive tables.';\n",
              "          element.innerHTML = '';\n",
              "          dataTable['output_type'] = 'display_data';\n",
              "          await google.colab.output.renderOutput(dataTable, element);\n",
              "          const docLink = document.createElement('div');\n",
              "          docLink.innerHTML = docLinkHtml;\n",
              "          element.appendChild(docLink);\n",
              "        }\n",
              "      </script>\n",
              "    </div>\n",
              "  </div>\n",
              "  "
            ]
          },
          "metadata": {},
          "execution_count": 14
        }
      ],
      "source": [
        "live_pred_data.head()"
      ]
    },
    {
      "cell_type": "markdown",
      "id": "4a0dca41",
      "metadata": {
        "papermill": {
          "duration": 0.039569,
          "end_time": "2021-11-19T14:22:32.497432",
          "exception": false,
          "start_time": "2021-11-19T14:22:32.457863",
          "status": "completed"
        },
        "tags": [],
        "id": "4a0dca41"
      },
      "source": [
        "### Here are the five main days we are going to generate a prediction for. Looks like the models predicts that the price will increase for each day.\n",
        "### Lets validate our prediction with the actual results."
      ]
    },
    {
      "cell_type": "code",
      "execution_count": null,
      "id": "525e1610",
      "metadata": {
        "execution": {
          "iopub.execute_input": "2021-11-19T14:22:32.586565Z",
          "iopub.status.busy": "2021-11-19T14:22:32.585368Z",
          "iopub.status.idle": "2021-11-19T14:22:32.611645Z",
          "shell.execute_reply": "2021-11-19T14:22:32.612338Z",
          "shell.execute_reply.started": "2021-11-19T13:01:26.161148Z"
        },
        "papermill": {
          "duration": 0.070839,
          "end_time": "2021-11-19T14:22:32.612524",
          "exception": false,
          "start_time": "2021-11-19T14:22:32.541685",
          "status": "completed"
        },
        "tags": [],
        "colab": {
          "base_uri": "https://localhost:8080/"
        },
        "id": "525e1610",
        "outputId": "f8a6210c-4e3e-4c79-d473-670fb65fad89"
      },
      "outputs": [
        {
          "output_type": "stream",
          "name": "stdout",
          "text": [
            "[1. 1. 1. 1. 1.]\n"
          ]
        }
      ],
      "source": [
        "del(live_pred_data['close'])\n",
        "prediction = ensemble_model.predict(live_pred_data)\n",
        "print(prediction)"
      ]
    },
    {
      "cell_type": "markdown",
      "id": "751c6300",
      "metadata": {
        "papermill": {
          "duration": 0.040476,
          "end_time": "2021-11-19T14:22:32.695716",
          "exception": false,
          "start_time": "2021-11-19T14:22:32.655240",
          "status": "completed"
        },
        "tags": [],
        "id": "751c6300"
      },
      "source": [
        "### As we can see from the actual results, we can confirm that the model was correct in all of its predictions. However there are many factors that go into determining the stock price, so to say that the model will produce similar results every time is naive. However, during relatively normal periods of time (without major panic that causes volatility in the market), the model should be able to produce good results."
      ]
    },
    {
      "cell_type": "markdown",
      "id": "c7729dde",
      "metadata": {
        "papermill": {
          "duration": 0.042904,
          "end_time": "2021-11-19T14:22:32.777600",
          "exception": false,
          "start_time": "2021-11-19T14:22:32.734696",
          "status": "completed"
        },
        "tags": [],
        "id": "c7729dde"
      },
      "source": [
        "# <font color='red'> 5. Summary"
      ]
    },
    {
      "cell_type": "markdown",
      "id": "7ee22ecf",
      "metadata": {
        "papermill": {
          "duration": 0.04046,
          "end_time": "2021-11-19T14:22:32.857243",
          "exception": false,
          "start_time": "2021-11-19T14:22:32.816783",
          "status": "completed"
        },
        "tags": [],
        "id": "7ee22ecf"
      },
      "source": [
        "### To summarize what we’ve done in this project,\n",
        "### We’ve collected data to be used in analysis and feature creation.\n",
        "### We’ve used pandas to compute many model features and produce clean data to help us in machine learning. Created predictions or truth values using pandas.\n",
        "### Ensured our predictions were accurate with real world data.\n",
        "### Thanks for reading :)"
      ]
    }
  ],
  "metadata": {
    "kernelspec": {
      "display_name": "Python 3",
      "language": "python",
      "name": "python3"
    },
    "language_info": {
      "codemirror_mode": {
        "name": "ipython",
        "version": 3
      },
      "file_extension": ".py",
      "mimetype": "text/x-python",
      "name": "python",
      "nbconvert_exporter": "python",
      "pygments_lexer": "ipython3",
      "version": "3.7.10"
    },
    "papermill": {
      "default_parameters": {},
      "duration": 100.06682,
      "end_time": "2021-11-19T14:22:33.709556",
      "environment_variables": {},
      "exception": null,
      "input_path": "__notebook__.ipynb",
      "output_path": "__notebook__.ipynb",
      "parameters": {},
      "start_time": "2021-11-19T14:20:53.642736",
      "version": "2.3.3"
    },
    "colab": {
      "provenance": []
    }
  },
  "nbformat": 4,
  "nbformat_minor": 5
}